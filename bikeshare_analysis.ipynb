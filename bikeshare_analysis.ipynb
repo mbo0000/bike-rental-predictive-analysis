{
 "cells": [
  {
   "cell_type": "markdown",
   "id": "b9f4f1e8",
   "metadata": {},
   "source": [
    "# Demand for Electric Bicycles \n",
    "This project showcases a similar project I've worked on at my job. I’d like to share my thought process and explain how I approached the problem.\n",
    "\n",
    "## Objective\n",
    "Yulu has recently suffered considerable dips in its revenues. They have contracted a consulting company to understand the factors on which the demand for these shared electric bicycles depends. Specifically, they want to understand the factors affecting the demand for these shared electric bicycles in the Indian market.\n",
    "\n",
    "The company wants to know:\n",
    "- Which variables are significant in predicting the demand for shared electric bicycles in the Indian market?\n",
    "- How well do those variables describe the electric bicycle demand.\n",
    "\n",
    "## Data Description\n",
    "The file bike_sharing.csv contains the usage data aggregated by the hour with the following columns:\n",
    "- datetime - beginning of an hour for which the data are aggregated;\n",
    "- season\n",
    "    - 1: spring,\n",
    "    - 2: summer,\n",
    "    - 3: fall,\n",
    "    - 4: winter;\n",
    "- holiday - whether a day is a holiday or not\n",
    "- workingday - if a day is neither weekend nor holiday is 1, otherwise is 0.\n",
    "- weather\n",
    "    - 1: clear, few clouds, scattered clouds\n",
    "    - 2: mist + cloudy, mist + scattered clouds, mist + few clouds, mist\n",
    "    - 3: light snow, light rain + thunderstorm + scattered clouds, light rain + scattered clouds\n",
    "    - 4: heavy rain + ice pallets + thunderstorm + mist, snow + fog\n",
    "- temp - air temperature in degrees Celsius\n",
    "- atemp - feeling temperature in degrees Celsius\n",
    "- humidity - air humidity in percent\n",
    "- windspeed - wind speed in km/h\n",
    "- casual - number of bikes rented by casual users\n",
    "- registered - number of bikes rented by registered users\n",
    "- count - total number of rented bikes including both casual and registered users\n",
    "\n",
    "## EDA\n",
    "\n",
    "Let import and observe the dataset. "
   ]
  },
  {
   "cell_type": "code",
   "execution_count": null,
   "id": "99545d78",
   "metadata": {},
   "outputs": [],
   "source": [
    "import pandas as pd\n",
    "import matplotlib.pyplot as plt\n",
    "import seaborn as sns\n",
    "import numpy as np"
   ]
  },
  {
   "cell_type": "code",
   "execution_count": null,
   "id": "e227e05d",
   "metadata": {},
   "outputs": [],
   "source": [
    "df = pd.read_csv('datasets/bike_sharing.csv')\n",
    "df.info()"
   ]
  },
  {
   "cell_type": "code",
   "execution_count": null,
   "id": "6568a94d",
   "metadata": {},
   "outputs": [],
   "source": [
    "df.describe()"
   ]
  },
  {
   "cell_type": "markdown",
   "id": "84ee07c9",
   "metadata": {},
   "source": [
    "Notice casual, registered, and count fields mean vs std. This can implicate high variability in the bike rental with potential outliers in the data set. \n",
    "\n",
    "Adding parts of the day as a feature."
   ]
  },
  {
   "cell_type": "code",
   "execution_count": null,
   "id": "561781e0",
   "metadata": {},
   "outputs": [],
   "source": [
    "df['hour'] = pd.to_datetime(df['datetime']).dt.hour\n",
    "\n",
    "ser_obj    = df['hour']\n",
    "conditions = [ser_obj.between(5, 10), ser_obj.between(11,15), ser_obj.between(16,20), (ser_obj.between(21,23) | ser_obj.between(0,4))]\n",
    "\n",
    "# 1 = morning rush, 2 = mid day/afternoon, 3 = afternoon rush, 4 = late night/early morning\n",
    "values = [1,2,3,4]\n",
    "df['day_part'] = np.select(conditions, values)"
   ]
  },
  {
   "cell_type": "code",
   "execution_count": null,
   "id": "912f0e77",
   "metadata": {},
   "outputs": [],
   "source": [
    "from math import ceil\n",
    "cols = ['season', 'workingday', 'weather', 'hour', 'day_part']\n",
    "rows = ceil(len(cols)/2)\n",
    "fig, axes = plt.subplots(rows, 2, figsize=(12,4*len(cols)))\n",
    "axes = axes.flatten()\n",
    "\n",
    "for i, col in enumerate(cols):\n",
    "    tmp = df.groupby(col)['count'].sum().reset_index()\n",
    "    axes[i].bar(tmp[col], tmp['count'])\n",
    "    axes[i].set_title(f'Total Count by {col}')\n",
    "    axes[i].set_xlabel(col)\n",
    "    axes[i].set_ylabel('Count')\n",
    "\n",
    "\n",
    "plt.tight_layout()\n",
    "plt.show()"
   ]
  },
  {
   "cell_type": "markdown",
   "id": "d4d6663f",
   "metadata": {},
   "source": [
    "Overall, the rental count distributions align logically with the attributes. Rentals tend to increase on clear, dry days and are generally higher during working days compared to non-working days. Usage also rises in the morning hours, peaks during the afternoon rush as people finish work, and gradually tapers off into the late evening and early morning."
   ]
  },
  {
   "cell_type": "code",
   "execution_count": null,
   "id": "5807d0a9",
   "metadata": {},
   "outputs": [],
   "source": [
    "cols = ['atemp', 'humidity', 'windspeed']\n",
    "rows = ceil(len(cols)/2)\n",
    "fig, axes = plt.subplots(rows, 2, figsize=(12,4*len(cols)))\n",
    "axes = axes.flatten()\n",
    "\n",
    "for i, col in enumerate(cols):\n",
    "    tmp = df.groupby(col)['count'].mean().rename('avg_rental').reset_index()\n",
    "    axes[i].plot(tmp[col],tmp['avg_rental'])\n",
    "    axes[i].set_title(f'Average Rental by {col}')\n",
    "    axes[i].set_xlabel(col)\n",
    "    axes[i].set_ylabel('Avg Rental')\n",
    "\n",
    "plt.tight_layout()\n",
    "plt.show()"
   ]
  },
  {
   "cell_type": "markdown",
   "id": "d8a299fd",
   "metadata": {},
   "source": [
    "Similar patterns are observed here as well: rental activity increases with higher temperatures but tends to decline in high humidity, likely due to reduced comfort levels for riders.\n",
    "\n",
    "Let create a correlation matrix for potential predictive indicators."
   ]
  },
  {
   "cell_type": "code",
   "execution_count": null,
   "id": "a54dbb3c",
   "metadata": {},
   "outputs": [],
   "source": [
    "# correlation test to understand variables relationship to bike rental\n",
    "sns.set(rc={'figure.figsize':(15,10)})\n",
    "sns.heatmap(data=df[df.columns[1:]].corr(method='spearman'),annot=True, linewidth=0.1)\n",
    "plt.show()\n"
   ]
  },
  {
   "cell_type": "markdown",
   "id": "2b16f27d",
   "metadata": {},
   "source": [
    "Hour, apparent temperature (atemp), actual temperature (temp), and humidity show a moderate positive correlation with rental count, making them strong candidates for predictive features. However, temp and atemp appear to be multicollinear, as do casual and registered counts relative to total count. These variables should be excluded during modeling to prevent redundancy and ensure model stability.\n",
    "\n",
    "# Multiple Linear Regression Test"
   ]
  },
  {
   "cell_type": "code",
   "execution_count": null,
   "id": "255f846a",
   "metadata": {},
   "outputs": [],
   "source": [
    "import statsmodels.api as sm\n",
    "from sklearn.model_selection import train_test_split\n",
    "from sklearn.metrics import r2_score, mean_squared_error\n",
    "\n",
    "cleaned_df = df.drop(columns=['temp', 'casual', 'registered'])\n",
    "\n",
    "# features and target\n",
    "X = cleaned_df.drop(columns=['datetime', 'count'])\n",
    "y = cleaned_df['count']\n",
    "\n",
    "# Add constant\n",
    "X_sm = sm.add_constant(X)\n",
    "\n",
    "X_train, X_test, y_train, y_test = train_test_split(X_sm, y, test_size=0.2, random_state=42)\n",
    "model = sm.OLS(y_train, X_train).fit()\n",
    "\n",
    "print(model.summary())\n",
    "\n",
    "y_pred = model.predict(X_test)\n",
    "print(\"\\nR² Score:\", r2_score(y_test, y_pred))\n",
    "print(\"RMSE:\", np.sqrt(mean_squared_error(y_test, y_pred)))"
   ]
  },
  {
   "cell_type": "markdown",
   "id": "8bd1818d",
   "metadata": {},
   "source": [
    "# Results\n",
    "\n",
    "Using miltiple linear regression testing, below are stastically significant(p < 0.05) predictors for bicycle demands:\n",
    "- **atemp**: bike rental increases 6.35 count per temp increase.\n",
    "- **humidity**: bike rental decreases -2.27 count per humidity increase.\n",
    "- **hour**: as hour increases, bike rental also increases of 7.65.\n",
    "- **season**: as season of the year progresses, bike rental also increases of 21.23.\n",
    "- **day_part**: as day progresses, we can see demand decreases by -38.48 rides as the day approaching non morning and late afternoon rush. daily cycle of demands.\n",
    "- **weather**: poor weather conditions reduce demand by -7.38 rentals.\n",
    "\n",
    "\n",
    "With rsquare = 39.5%, model explains ~40% of the variation in of bike rental demand using current features. F-statistic = 0.0, the model is statistically significant with at least 1 predictor is driving meaningful variance in count. This is a solid start with available data at hand. \n",
    "\n",
    "# Reference\n",
    "- Data source: [Stratascratch](https://platform.stratascratch.com/data-projects/demand-for-electric-bicycles)"
   ]
  }
 ],
 "metadata": {
  "kernelspec": {
   "display_name": "venv",
   "language": "python",
   "name": "python3"
  },
  "language_info": {
   "codemirror_mode": {
    "name": "ipython",
    "version": 3
   },
   "file_extension": ".py",
   "mimetype": "text/x-python",
   "name": "python",
   "nbconvert_exporter": "python",
   "pygments_lexer": "ipython3",
   "version": "3.13.5"
  }
 },
 "nbformat": 4,
 "nbformat_minor": 5
}
